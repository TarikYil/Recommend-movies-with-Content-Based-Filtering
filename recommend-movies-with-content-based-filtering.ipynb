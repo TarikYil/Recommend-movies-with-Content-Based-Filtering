{
 "cells": [
  {
   "cell_type": "markdown",
   "id": "275a7b11",
   "metadata": {
    "papermill": {
     "duration": 0.008986,
     "end_time": "2023-03-22T11:49:49.321147",
     "exception": false,
     "start_time": "2023-03-22T11:49:49.312161",
     "status": "completed"
    },
    "tags": []
   },
   "source": [
    "# 🚢 🛳**Recommendations are developed based on the similarity of product ingredients. This process is carried out through the description of the product. A recommendation is created for the next service that the user will receive by filtering the information (descriptions) of the service according to the service that the user has accessed in a limited number of times. Filtering processes on the description of the product are done by following the steps below:**\n",
    "\n",
    "* *Texts are represented mathematically (text vectorization).*\n",
    "* *Similarity, distance, vs. measuring by methods.*"
   ]
  },
  {
   "cell_type": "markdown",
   "id": "3f8bc39b",
   "metadata": {
    "papermill": {
     "duration": 0.007071,
     "end_time": "2023-03-22T11:49:49.335769",
     "exception": false,
     "start_time": "2023-03-22T11:49:49.328698",
     "status": "completed"
    },
    "tags": []
   },
   "source": [
    "![](https://editor.analyticsvidhya.com/uploads/62904R0.PNG)"
   ]
  },
  {
   "cell_type": "markdown",
   "id": "a8f0d09e",
   "metadata": {
    "papermill": {
     "duration": 0.006973,
     "end_time": "2023-03-22T11:49:49.350104",
     "exception": false,
     "start_time": "2023-03-22T11:49:49.343131",
     "status": "completed"
    },
    "tags": []
   },
   "source": [
    "# 📒📔📕***Text vectorization***\n",
    "* ***Count vektör(sayım vektörü)***: *It is aimed to apply textual expressions to mathematical operations. However, since our data consists of textual expressions, it needs to be converted to numerical data..*\n",
    "* ***TF-IDF matrisi***: *It performs a normalization process over the frequency of occurrence of the words both in its own text and in the whole text. The word vectors to be created are standardized by considering all the documents of the document term matrix. High frequency values ​​can create bias in the count vector method. However, in this method, it prevents bias by normalizing both in a specific document and in all documents..*"
   ]
  },
  {
   "cell_type": "markdown",
   "id": "3f2b7af8",
   "metadata": {
    "papermill": {
     "duration": 0.007008,
     "end_time": "2023-03-22T11:49:49.364359",
     "exception": false,
     "start_time": "2023-03-22T11:49:49.357351",
     "status": "completed"
    },
    "tags": []
   },
   "source": [
    "# ***🔟Dimensioning***\n",
    "* ***Cosine similatary (benzerlik)***\n",
    "* ***Oklid (uzaklık)***"
   ]
  },
  {
   "cell_type": "markdown",
   "id": "17ddb5d0",
   "metadata": {
    "papermill": {
     "duration": 0.007052,
     "end_time": "2023-03-22T11:49:49.378611",
     "exception": false,
     "start_time": "2023-03-22T11:49:49.371559",
     "status": "completed"
    },
    "tags": []
   },
   "source": [
    "***Recommendation systems will be developed with the \"overview\" and \"title\" variables of the movies in the data set. Content Based Filtering method will be used from recommendation systems.***"
   ]
  },
  {
   "cell_type": "markdown",
   "id": "4ebcf9a6",
   "metadata": {
    "papermill": {
     "duration": 0.00698,
     "end_time": "2023-03-22T11:49:49.392852",
     "exception": false,
     "start_time": "2023-03-22T11:49:49.385872",
     "status": "completed"
    },
    "tags": []
   },
   "source": [
    "***The \"overview\" variable gives us the unique word group. The \"title\" variable gives the product to be recommended.***"
   ]
  },
  {
   "cell_type": "markdown",
   "id": "5e13d1b4",
   "metadata": {
    "papermill": {
     "duration": 0.007239,
     "end_time": "2023-03-22T11:49:49.407633",
     "exception": false,
     "start_time": "2023-03-22T11:49:49.400394",
     "status": "completed"
    },
    "tags": []
   },
   "source": [
    "# **🟡1.Import Libraries**"
   ]
  },
  {
   "cell_type": "code",
   "execution_count": 1,
   "id": "06f471b8",
   "metadata": {
    "_cell_guid": "b1076dfc-b9ad-4769-8c92-a6c4dae69d19",
    "_uuid": "8f2839f25d086af736a60e9eeb907d3b93b6e0e5",
    "execution": {
     "iopub.execute_input": "2023-03-22T11:49:49.425969Z",
     "iopub.status.busy": "2023-03-22T11:49:49.424953Z",
     "iopub.status.idle": "2023-03-22T11:49:50.925697Z",
     "shell.execute_reply": "2023-03-22T11:49:50.923845Z"
    },
    "papermill": {
     "duration": 1.513677,
     "end_time": "2023-03-22T11:49:50.928643",
     "exception": false,
     "start_time": "2023-03-22T11:49:49.414966",
     "status": "completed"
    },
    "tags": []
   },
   "outputs": [
    {
     "name": "stdout",
     "output_type": "stream",
     "text": [
      "/kaggle/input/the-movies-dataset/ratings.csv\n",
      "/kaggle/input/the-movies-dataset/links_small.csv\n",
      "/kaggle/input/the-movies-dataset/credits.csv\n",
      "/kaggle/input/the-movies-dataset/keywords.csv\n",
      "/kaggle/input/the-movies-dataset/movies_metadata.csv\n",
      "/kaggle/input/the-movies-dataset/ratings_small.csv\n",
      "/kaggle/input/the-movies-dataset/links.csv\n"
     ]
    }
   ],
   "source": [
    "import numpy as np # linear algebra\n",
    "import pandas as pd # data processing, CSV file I/O (e.g. pd.read_csv)\n",
    "import seaborn as sns\n",
    "from sklearn.feature_extraction.text import TfidfVectorizer\n",
    "from sklearn.metrics.pairwise import cosine_similarity\n",
    "import os\n",
    "for dirname, _, filenames in os.walk('/kaggle/input'):\n",
    "    for filename in filenames:\n",
    "        print(os.path.join(dirname, filename))\n"
   ]
  },
  {
   "cell_type": "code",
   "execution_count": 2,
   "id": "eb3fe011",
   "metadata": {
    "execution": {
     "iopub.execute_input": "2023-03-22T11:49:50.946218Z",
     "iopub.status.busy": "2023-03-22T11:49:50.945679Z",
     "iopub.status.idle": "2023-03-22T11:49:50.951827Z",
     "shell.execute_reply": "2023-03-22T11:49:50.950334Z"
    },
    "papermill": {
     "duration": 0.018025,
     "end_time": "2023-03-22T11:49:50.954402",
     "exception": false,
     "start_time": "2023-03-22T11:49:50.936377",
     "status": "completed"
    },
    "tags": []
   },
   "outputs": [],
   "source": [
    "pd.set_option(\"display.max_columns\", None)\n",
    "pd.set_option(\"display.width\",500)"
   ]
  },
  {
   "cell_type": "markdown",
   "id": "a7417352",
   "metadata": {
    "papermill": {
     "duration": 0.00722,
     "end_time": "2023-03-22T11:49:50.969209",
     "exception": false,
     "start_time": "2023-03-22T11:49:50.961989",
     "status": "completed"
    },
    "tags": []
   },
   "source": [
    "# 🟣**2.Getting to know the dataset**"
   ]
  },
  {
   "cell_type": "code",
   "execution_count": 3,
   "id": "a0b4a2f2",
   "metadata": {
    "execution": {
     "iopub.execute_input": "2023-03-22T11:49:50.986400Z",
     "iopub.status.busy": "2023-03-22T11:49:50.985470Z",
     "iopub.status.idle": "2023-03-22T11:49:52.420377Z",
     "shell.execute_reply": "2023-03-22T11:49:52.418849Z"
    },
    "papermill": {
     "duration": 1.44701,
     "end_time": "2023-03-22T11:49:52.423702",
     "exception": false,
     "start_time": "2023-03-22T11:49:50.976692",
     "status": "completed"
    },
    "tags": []
   },
   "outputs": [
    {
     "data": {
      "text/html": [
       "<div>\n",
       "<style scoped>\n",
       "    .dataframe tbody tr th:only-of-type {\n",
       "        vertical-align: middle;\n",
       "    }\n",
       "\n",
       "    .dataframe tbody tr th {\n",
       "        vertical-align: top;\n",
       "    }\n",
       "\n",
       "    .dataframe thead th {\n",
       "        text-align: right;\n",
       "    }\n",
       "</style>\n",
       "<table border=\"1\" class=\"dataframe\">\n",
       "  <thead>\n",
       "    <tr style=\"text-align: right;\">\n",
       "      <th></th>\n",
       "      <th>adult</th>\n",
       "      <th>belongs_to_collection</th>\n",
       "      <th>budget</th>\n",
       "      <th>genres</th>\n",
       "      <th>homepage</th>\n",
       "      <th>id</th>\n",
       "      <th>imdb_id</th>\n",
       "      <th>original_language</th>\n",
       "      <th>original_title</th>\n",
       "      <th>overview</th>\n",
       "      <th>popularity</th>\n",
       "      <th>poster_path</th>\n",
       "      <th>production_companies</th>\n",
       "      <th>production_countries</th>\n",
       "      <th>release_date</th>\n",
       "      <th>revenue</th>\n",
       "      <th>runtime</th>\n",
       "      <th>spoken_languages</th>\n",
       "      <th>status</th>\n",
       "      <th>tagline</th>\n",
       "      <th>title</th>\n",
       "      <th>video</th>\n",
       "      <th>vote_average</th>\n",
       "      <th>vote_count</th>\n",
       "    </tr>\n",
       "  </thead>\n",
       "  <tbody>\n",
       "    <tr>\n",
       "      <th>0</th>\n",
       "      <td>False</td>\n",
       "      <td>{'id': 10194, 'name': 'Toy Story Collection', ...</td>\n",
       "      <td>30000000</td>\n",
       "      <td>[{'id': 16, 'name': 'Animation'}, {'id': 35, '...</td>\n",
       "      <td>http://toystory.disney.com/toy-story</td>\n",
       "      <td>862</td>\n",
       "      <td>tt0114709</td>\n",
       "      <td>en</td>\n",
       "      <td>Toy Story</td>\n",
       "      <td>Led by Woody, Andy's toys live happily in his ...</td>\n",
       "      <td>21.946943</td>\n",
       "      <td>/rhIRbceoE9lR4veEXuwCC2wARtG.jpg</td>\n",
       "      <td>[{'name': 'Pixar Animation Studios', 'id': 3}]</td>\n",
       "      <td>[{'iso_3166_1': 'US', 'name': 'United States o...</td>\n",
       "      <td>1995-10-30</td>\n",
       "      <td>373554033.0</td>\n",
       "      <td>81.0</td>\n",
       "      <td>[{'iso_639_1': 'en', 'name': 'English'}]</td>\n",
       "      <td>Released</td>\n",
       "      <td>NaN</td>\n",
       "      <td>Toy Story</td>\n",
       "      <td>False</td>\n",
       "      <td>7.7</td>\n",
       "      <td>5415.0</td>\n",
       "    </tr>\n",
       "    <tr>\n",
       "      <th>1</th>\n",
       "      <td>False</td>\n",
       "      <td>NaN</td>\n",
       "      <td>65000000</td>\n",
       "      <td>[{'id': 12, 'name': 'Adventure'}, {'id': 14, '...</td>\n",
       "      <td>NaN</td>\n",
       "      <td>8844</td>\n",
       "      <td>tt0113497</td>\n",
       "      <td>en</td>\n",
       "      <td>Jumanji</td>\n",
       "      <td>When siblings Judy and Peter discover an encha...</td>\n",
       "      <td>17.015539</td>\n",
       "      <td>/vzmL6fP7aPKNKPRTFnZmiUfciyV.jpg</td>\n",
       "      <td>[{'name': 'TriStar Pictures', 'id': 559}, {'na...</td>\n",
       "      <td>[{'iso_3166_1': 'US', 'name': 'United States o...</td>\n",
       "      <td>1995-12-15</td>\n",
       "      <td>262797249.0</td>\n",
       "      <td>104.0</td>\n",
       "      <td>[{'iso_639_1': 'en', 'name': 'English'}, {'iso...</td>\n",
       "      <td>Released</td>\n",
       "      <td>Roll the dice and unleash the excitement!</td>\n",
       "      <td>Jumanji</td>\n",
       "      <td>False</td>\n",
       "      <td>6.9</td>\n",
       "      <td>2413.0</td>\n",
       "    </tr>\n",
       "    <tr>\n",
       "      <th>2</th>\n",
       "      <td>False</td>\n",
       "      <td>{'id': 119050, 'name': 'Grumpy Old Men Collect...</td>\n",
       "      <td>0</td>\n",
       "      <td>[{'id': 10749, 'name': 'Romance'}, {'id': 35, ...</td>\n",
       "      <td>NaN</td>\n",
       "      <td>15602</td>\n",
       "      <td>tt0113228</td>\n",
       "      <td>en</td>\n",
       "      <td>Grumpier Old Men</td>\n",
       "      <td>A family wedding reignites the ancient feud be...</td>\n",
       "      <td>11.7129</td>\n",
       "      <td>/6ksm1sjKMFLbO7UY2i6G1ju9SML.jpg</td>\n",
       "      <td>[{'name': 'Warner Bros.', 'id': 6194}, {'name'...</td>\n",
       "      <td>[{'iso_3166_1': 'US', 'name': 'United States o...</td>\n",
       "      <td>1995-12-22</td>\n",
       "      <td>0.0</td>\n",
       "      <td>101.0</td>\n",
       "      <td>[{'iso_639_1': 'en', 'name': 'English'}]</td>\n",
       "      <td>Released</td>\n",
       "      <td>Still Yelling. Still Fighting. Still Ready for...</td>\n",
       "      <td>Grumpier Old Men</td>\n",
       "      <td>False</td>\n",
       "      <td>6.5</td>\n",
       "      <td>92.0</td>\n",
       "    </tr>\n",
       "    <tr>\n",
       "      <th>3</th>\n",
       "      <td>False</td>\n",
       "      <td>NaN</td>\n",
       "      <td>16000000</td>\n",
       "      <td>[{'id': 35, 'name': 'Comedy'}, {'id': 18, 'nam...</td>\n",
       "      <td>NaN</td>\n",
       "      <td>31357</td>\n",
       "      <td>tt0114885</td>\n",
       "      <td>en</td>\n",
       "      <td>Waiting to Exhale</td>\n",
       "      <td>Cheated on, mistreated and stepped on, the wom...</td>\n",
       "      <td>3.859495</td>\n",
       "      <td>/16XOMpEaLWkrcPqSQqhTmeJuqQl.jpg</td>\n",
       "      <td>[{'name': 'Twentieth Century Fox Film Corporat...</td>\n",
       "      <td>[{'iso_3166_1': 'US', 'name': 'United States o...</td>\n",
       "      <td>1995-12-22</td>\n",
       "      <td>81452156.0</td>\n",
       "      <td>127.0</td>\n",
       "      <td>[{'iso_639_1': 'en', 'name': 'English'}]</td>\n",
       "      <td>Released</td>\n",
       "      <td>Friends are the people who let you be yourself...</td>\n",
       "      <td>Waiting to Exhale</td>\n",
       "      <td>False</td>\n",
       "      <td>6.1</td>\n",
       "      <td>34.0</td>\n",
       "    </tr>\n",
       "    <tr>\n",
       "      <th>4</th>\n",
       "      <td>False</td>\n",
       "      <td>{'id': 96871, 'name': 'Father of the Bride Col...</td>\n",
       "      <td>0</td>\n",
       "      <td>[{'id': 35, 'name': 'Comedy'}]</td>\n",
       "      <td>NaN</td>\n",
       "      <td>11862</td>\n",
       "      <td>tt0113041</td>\n",
       "      <td>en</td>\n",
       "      <td>Father of the Bride Part II</td>\n",
       "      <td>Just when George Banks has recovered from his ...</td>\n",
       "      <td>8.387519</td>\n",
       "      <td>/e64sOI48hQXyru7naBFyssKFxVd.jpg</td>\n",
       "      <td>[{'name': 'Sandollar Productions', 'id': 5842}...</td>\n",
       "      <td>[{'iso_3166_1': 'US', 'name': 'United States o...</td>\n",
       "      <td>1995-02-10</td>\n",
       "      <td>76578911.0</td>\n",
       "      <td>106.0</td>\n",
       "      <td>[{'iso_639_1': 'en', 'name': 'English'}]</td>\n",
       "      <td>Released</td>\n",
       "      <td>Just When His World Is Back To Normal... He's ...</td>\n",
       "      <td>Father of the Bride Part II</td>\n",
       "      <td>False</td>\n",
       "      <td>5.7</td>\n",
       "      <td>173.0</td>\n",
       "    </tr>\n",
       "  </tbody>\n",
       "</table>\n",
       "</div>"
      ],
      "text/plain": [
       "   adult                              belongs_to_collection    budget                                             genres                              homepage     id    imdb_id original_language               original_title                                           overview popularity                       poster_path                               production_companies                               production_countries release_date      revenue  runtime  \\\n",
       "0  False  {'id': 10194, 'name': 'Toy Story Collection', ...  30000000  [{'id': 16, 'name': 'Animation'}, {'id': 35, '...  http://toystory.disney.com/toy-story    862  tt0114709                en                    Toy Story  Led by Woody, Andy's toys live happily in his ...  21.946943  /rhIRbceoE9lR4veEXuwCC2wARtG.jpg     [{'name': 'Pixar Animation Studios', 'id': 3}]  [{'iso_3166_1': 'US', 'name': 'United States o...   1995-10-30  373554033.0     81.0   \n",
       "1  False                                                NaN  65000000  [{'id': 12, 'name': 'Adventure'}, {'id': 14, '...                                   NaN   8844  tt0113497                en                      Jumanji  When siblings Judy and Peter discover an encha...  17.015539  /vzmL6fP7aPKNKPRTFnZmiUfciyV.jpg  [{'name': 'TriStar Pictures', 'id': 559}, {'na...  [{'iso_3166_1': 'US', 'name': 'United States o...   1995-12-15  262797249.0    104.0   \n",
       "2  False  {'id': 119050, 'name': 'Grumpy Old Men Collect...         0  [{'id': 10749, 'name': 'Romance'}, {'id': 35, ...                                   NaN  15602  tt0113228                en             Grumpier Old Men  A family wedding reignites the ancient feud be...    11.7129  /6ksm1sjKMFLbO7UY2i6G1ju9SML.jpg  [{'name': 'Warner Bros.', 'id': 6194}, {'name'...  [{'iso_3166_1': 'US', 'name': 'United States o...   1995-12-22          0.0    101.0   \n",
       "3  False                                                NaN  16000000  [{'id': 35, 'name': 'Comedy'}, {'id': 18, 'nam...                                   NaN  31357  tt0114885                en            Waiting to Exhale  Cheated on, mistreated and stepped on, the wom...   3.859495  /16XOMpEaLWkrcPqSQqhTmeJuqQl.jpg  [{'name': 'Twentieth Century Fox Film Corporat...  [{'iso_3166_1': 'US', 'name': 'United States o...   1995-12-22   81452156.0    127.0   \n",
       "4  False  {'id': 96871, 'name': 'Father of the Bride Col...         0                     [{'id': 35, 'name': 'Comedy'}]                                   NaN  11862  tt0113041                en  Father of the Bride Part II  Just when George Banks has recovered from his ...   8.387519  /e64sOI48hQXyru7naBFyssKFxVd.jpg  [{'name': 'Sandollar Productions', 'id': 5842}...  [{'iso_3166_1': 'US', 'name': 'United States o...   1995-02-10   76578911.0    106.0   \n",
       "\n",
       "                                    spoken_languages    status                                            tagline                        title  video  vote_average  vote_count  \n",
       "0           [{'iso_639_1': 'en', 'name': 'English'}]  Released                                                NaN                    Toy Story  False           7.7      5415.0  \n",
       "1  [{'iso_639_1': 'en', 'name': 'English'}, {'iso...  Released          Roll the dice and unleash the excitement!                      Jumanji  False           6.9      2413.0  \n",
       "2           [{'iso_639_1': 'en', 'name': 'English'}]  Released  Still Yelling. Still Fighting. Still Ready for...             Grumpier Old Men  False           6.5        92.0  \n",
       "3           [{'iso_639_1': 'en', 'name': 'English'}]  Released  Friends are the people who let you be yourself...            Waiting to Exhale  False           6.1        34.0  \n",
       "4           [{'iso_639_1': 'en', 'name': 'English'}]  Released  Just When His World Is Back To Normal... He's ...  Father of the Bride Part II  False           5.7       173.0  "
      ]
     },
     "execution_count": 3,
     "metadata": {},
     "output_type": "execute_result"
    }
   ],
   "source": [
    "df = pd.read_csv('/kaggle/input/the-movies-dataset/movies_metadata.csv', low_memory=False)\n",
    "df.head()"
   ]
  },
  {
   "cell_type": "code",
   "execution_count": 4,
   "id": "962cbd9c",
   "metadata": {
    "execution": {
     "iopub.execute_input": "2023-03-22T11:49:52.442658Z",
     "iopub.status.busy": "2023-03-22T11:49:52.442193Z",
     "iopub.status.idle": "2023-03-22T11:49:52.788002Z",
     "shell.execute_reply": "2023-03-22T11:49:52.786250Z"
    },
    "papermill": {
     "duration": 0.358986,
     "end_time": "2023-03-22T11:49:52.791458",
     "exception": false,
     "start_time": "2023-03-22T11:49:52.432472",
     "status": "completed"
    },
    "tags": []
   },
   "outputs": [
    {
     "name": "stdout",
     "output_type": "stream",
     "text": [
      "--------------------------------SHAPE---------------------------------\n",
      "(45466, 24)\n",
      "---------------------------------TYPE---------------------------------\n",
      "adult                     object\n",
      "belongs_to_collection     object\n",
      "budget                    object\n",
      "genres                    object\n",
      "homepage                  object\n",
      "id                        object\n",
      "imdb_id                   object\n",
      "original_language         object\n",
      "original_title            object\n",
      "overview                  object\n",
      "popularity                object\n",
      "poster_path               object\n",
      "production_companies      object\n",
      "production_countries      object\n",
      "release_date              object\n",
      "revenue                  float64\n",
      "runtime                  float64\n",
      "spoken_languages          object\n",
      "status                    object\n",
      "tagline                   object\n",
      "title                     object\n",
      "video                     object\n",
      "vote_average             float64\n",
      "vote_count               float64\n",
      "dtype: object\n",
      "---------------------------------INFO---------------------------------\n",
      "<class 'pandas.core.frame.DataFrame'>\n",
      "RangeIndex: 45466 entries, 0 to 45465\n",
      "Data columns (total 24 columns):\n",
      " #   Column                 Non-Null Count  Dtype  \n",
      "---  ------                 --------------  -----  \n",
      " 0   adult                  45466 non-null  object \n",
      " 1   belongs_to_collection  4494 non-null   object \n",
      " 2   budget                 45466 non-null  object \n",
      " 3   genres                 45466 non-null  object \n",
      " 4   homepage               7782 non-null   object \n",
      " 5   id                     45466 non-null  object \n",
      " 6   imdb_id                45449 non-null  object \n",
      " 7   original_language      45455 non-null  object \n",
      " 8   original_title         45466 non-null  object \n",
      " 9   overview               44512 non-null  object \n",
      " 10  popularity             45461 non-null  object \n",
      " 11  poster_path            45080 non-null  object \n",
      " 12  production_companies   45463 non-null  object \n",
      " 13  production_countries   45463 non-null  object \n",
      " 14  release_date           45379 non-null  object \n",
      " 15  revenue                45460 non-null  float64\n",
      " 16  runtime                45203 non-null  float64\n",
      " 17  spoken_languages       45460 non-null  object \n",
      " 18  status                 45379 non-null  object \n",
      " 19  tagline                20412 non-null  object \n",
      " 20  title                  45460 non-null  object \n",
      " 21  video                  45460 non-null  object \n",
      " 22  vote_average           45460 non-null  float64\n",
      " 23  vote_count             45460 non-null  float64\n",
      "dtypes: float64(4), object(20)\n",
      "memory usage: 8.3+ MB\n",
      "None\n",
      "----------------------------------NA----------------------------------\n",
      "adult                        0\n",
      "belongs_to_collection    40972\n",
      "budget                       0\n",
      "genres                       0\n",
      "homepage                 37684\n",
      "id                           0\n",
      "imdb_id                     17\n",
      "original_language           11\n",
      "original_title               0\n",
      "overview                   954\n",
      "popularity                   5\n",
      "poster_path                386\n",
      "production_companies         3\n",
      "production_countries         3\n",
      "release_date                87\n",
      "revenue                      6\n",
      "runtime                    263\n",
      "spoken_languages             6\n",
      "status                      87\n",
      "tagline                  25054\n",
      "title                        6\n",
      "video                        6\n",
      "vote_average                 6\n",
      "vote_count                   6\n",
      "dtype: int64\n",
      "-------------------------------DESCRIBE-------------------------------\n",
      "                count          mean           std  min   25%   50%    75%           max\n",
      "revenue       45460.0  1.120935e+07  6.433225e+07  0.0   0.0   0.0    0.0  2.787965e+09\n",
      "runtime       45203.0  9.412820e+01  3.840781e+01  0.0  85.0  95.0  107.0  1.256000e+03\n",
      "vote_average  45460.0  5.618207e+00  1.924216e+00  0.0   5.0   6.0    6.8  1.000000e+01\n",
      "vote_count    45460.0  1.098973e+02  4.913104e+02  0.0   3.0  10.0   34.0  1.407500e+04\n",
      "-------------------------------NUNIQUE--------------------------------\n",
      "adult                        5\n",
      "belongs_to_collection     1698\n",
      "budget                    1226\n",
      "genres                    4069\n",
      "homepage                  7673\n",
      "id                       45436\n",
      "imdb_id                  45417\n",
      "original_language           92\n",
      "original_title           43373\n",
      "overview                 44307\n",
      "popularity               43758\n",
      "poster_path              45024\n",
      "production_companies     22708\n",
      "production_countries      2393\n",
      "release_date             17336\n",
      "revenue                   6863\n",
      "runtime                    353\n",
      "spoken_languages          1931\n",
      "status                       6\n",
      "tagline                  20283\n",
      "title                    42277\n",
      "video                        2\n",
      "vote_average                92\n",
      "vote_count                1820\n",
      "dtype: int64\n"
     ]
    }
   ],
   "source": [
    "def check_dt(dataframe):\n",
    "    print(\"SHAPE\".center(70, \"-\"))\n",
    "    print(dataframe.shape)\n",
    "    print(\"TYPE\".center(70, \"-\"))\n",
    "    print(dataframe.dtypes)\n",
    "    print(\"INFO\".center(70, \"-\"))\n",
    "    print(dataframe.info())\n",
    "    print(\"NA\".center(70, \"-\"))\n",
    "    print(dataframe.isnull().sum())\n",
    "    print(\"DESCRIBE\".center(70, \"-\"))\n",
    "    print(dataframe.describe().T)\n",
    "    print(\"NUNIQUE\".center(70, \"-\"))\n",
    "    print(dataframe.nunique())\n",
    "check_dt(df)"
   ]
  },
  {
   "cell_type": "markdown",
   "id": "c9dddbe6",
   "metadata": {
    "papermill": {
     "duration": 0.008462,
     "end_time": "2023-03-22T11:49:52.809127",
     "exception": false,
     "start_time": "2023-03-22T11:49:52.800665",
     "status": "completed"
    },
    "tags": []
   },
   "source": [
    "# 🟢**3.Generating the TF-IDF matrix**"
   ]
  },
  {
   "cell_type": "code",
   "execution_count": 5,
   "id": "b1d0e6a5",
   "metadata": {
    "execution": {
     "iopub.execute_input": "2023-03-22T11:49:52.827778Z",
     "iopub.status.busy": "2023-03-22T11:49:52.827323Z",
     "iopub.status.idle": "2023-03-22T11:49:52.833307Z",
     "shell.execute_reply": "2023-03-22T11:49:52.831695Z"
    },
    "papermill": {
     "duration": 0.01815,
     "end_time": "2023-03-22T11:49:52.835703",
     "exception": false,
     "start_time": "2023-03-22T11:49:52.817553",
     "status": "completed"
    },
    "tags": []
   },
   "outputs": [],
   "source": [
    "tfidf = TfidfVectorizer(stop_words=\"english\")"
   ]
  },
  {
   "cell_type": "markdown",
   "id": "aae5322e",
   "metadata": {
    "papermill": {
     "duration": 0.008162,
     "end_time": "2023-03-22T11:49:52.852554",
     "exception": false,
     "start_time": "2023-03-22T11:49:52.844392",
     "status": "completed"
    },
    "tags": []
   },
   "source": [
    "***NAN values ​​are determined and replaced with the expression \" \"***"
   ]
  },
  {
   "cell_type": "code",
   "execution_count": 6,
   "id": "96641405",
   "metadata": {
    "execution": {
     "iopub.execute_input": "2023-03-22T11:49:52.872263Z",
     "iopub.status.busy": "2023-03-22T11:49:52.870792Z",
     "iopub.status.idle": "2023-03-22T11:49:52.917436Z",
     "shell.execute_reply": "2023-03-22T11:49:52.916162Z"
    },
    "papermill": {
     "duration": 0.059087,
     "end_time": "2023-03-22T11:49:52.920082",
     "exception": false,
     "start_time": "2023-03-22T11:49:52.860995",
     "status": "completed"
    },
    "tags": []
   },
   "outputs": [
    {
     "data": {
      "text/html": [
       "<div>\n",
       "<style scoped>\n",
       "    .dataframe tbody tr th:only-of-type {\n",
       "        vertical-align: middle;\n",
       "    }\n",
       "\n",
       "    .dataframe tbody tr th {\n",
       "        vertical-align: top;\n",
       "    }\n",
       "\n",
       "    .dataframe thead th {\n",
       "        text-align: right;\n",
       "    }\n",
       "</style>\n",
       "<table border=\"1\" class=\"dataframe\">\n",
       "  <thead>\n",
       "    <tr style=\"text-align: right;\">\n",
       "      <th></th>\n",
       "      <th>adult</th>\n",
       "      <th>belongs_to_collection</th>\n",
       "      <th>budget</th>\n",
       "      <th>genres</th>\n",
       "      <th>homepage</th>\n",
       "      <th>id</th>\n",
       "      <th>imdb_id</th>\n",
       "      <th>original_language</th>\n",
       "      <th>original_title</th>\n",
       "      <th>overview</th>\n",
       "      <th>popularity</th>\n",
       "      <th>poster_path</th>\n",
       "      <th>production_companies</th>\n",
       "      <th>production_countries</th>\n",
       "      <th>release_date</th>\n",
       "      <th>revenue</th>\n",
       "      <th>runtime</th>\n",
       "      <th>spoken_languages</th>\n",
       "      <th>status</th>\n",
       "      <th>tagline</th>\n",
       "      <th>title</th>\n",
       "      <th>video</th>\n",
       "      <th>vote_average</th>\n",
       "      <th>vote_count</th>\n",
       "    </tr>\n",
       "  </thead>\n",
       "  <tbody>\n",
       "    <tr>\n",
       "      <th>32</th>\n",
       "      <td>False</td>\n",
       "      <td>NaN</td>\n",
       "      <td>0</td>\n",
       "      <td>[{'id': 10749, 'name': 'Romance'}, {'id': 12, ...</td>\n",
       "      <td>NaN</td>\n",
       "      <td>78802</td>\n",
       "      <td>tt0114952</td>\n",
       "      <td>fr</td>\n",
       "      <td>Guillaumet, les ailes du courage</td>\n",
       "      <td>NaN</td>\n",
       "      <td>0.745542</td>\n",
       "      <td>/k6ODtR38dKEfuzSGjggr8KDyAF4.jpg</td>\n",
       "      <td>[{'name': 'Iwerks Entertainment', 'id': 70801}]</td>\n",
       "      <td>[{'iso_3166_1': 'FR', 'name': 'France'}, {'iso...</td>\n",
       "      <td>1996-09-18</td>\n",
       "      <td>0.0</td>\n",
       "      <td>50.0</td>\n",
       "      <td>[{'iso_639_1': 'en', 'name': 'English'}]</td>\n",
       "      <td>Released</td>\n",
       "      <td>NaN</td>\n",
       "      <td>Wings of Courage</td>\n",
       "      <td>False</td>\n",
       "      <td>6.8</td>\n",
       "      <td>4.0</td>\n",
       "    </tr>\n",
       "    <tr>\n",
       "      <th>300</th>\n",
       "      <td>False</td>\n",
       "      <td>NaN</td>\n",
       "      <td>22000000</td>\n",
       "      <td>[{'id': 18, 'name': 'Drama'}, {'id': 35, 'name...</td>\n",
       "      <td>NaN</td>\n",
       "      <td>161495</td>\n",
       "      <td>tt0114296</td>\n",
       "      <td>sv</td>\n",
       "      <td>Roommates</td>\n",
       "      <td>NaN</td>\n",
       "      <td>3.395867</td>\n",
       "      <td>/hvHNlMvWS2GBt7RR971bJ3k4bJc.jpg</td>\n",
       "      <td>[{'name': 'Hollywood Pictures', 'id': 915}, {'...</td>\n",
       "      <td>[{'iso_3166_1': 'US', 'name': 'United States o...</td>\n",
       "      <td>1995-03-01</td>\n",
       "      <td>12400000.0</td>\n",
       "      <td>108.0</td>\n",
       "      <td>[{'iso_639_1': 'en', 'name': 'English'}]</td>\n",
       "      <td>Released</td>\n",
       "      <td>NaN</td>\n",
       "      <td>Roommates</td>\n",
       "      <td>False</td>\n",
       "      <td>6.4</td>\n",
       "      <td>7.0</td>\n",
       "    </tr>\n",
       "    <tr>\n",
       "      <th>634</th>\n",
       "      <td>False</td>\n",
       "      <td>NaN</td>\n",
       "      <td>0</td>\n",
       "      <td>[{'id': 35, 'name': 'Comedy'}]</td>\n",
       "      <td>NaN</td>\n",
       "      <td>287305</td>\n",
       "      <td>tt0117312</td>\n",
       "      <td>de</td>\n",
       "      <td>Peanuts – Die Bank zahlt alles</td>\n",
       "      <td>NaN</td>\n",
       "      <td>0.066123</td>\n",
       "      <td>/wpk30SvRHmjC2plgKHZXxG0FlKd.jpg</td>\n",
       "      <td>[{'name': 'Westdeutscher Rundfunk (WDR)', 'id'...</td>\n",
       "      <td>[{'iso_3166_1': 'DE', 'name': 'Germany'}]</td>\n",
       "      <td>1996-03-21</td>\n",
       "      <td>0.0</td>\n",
       "      <td>NaN</td>\n",
       "      <td>[]</td>\n",
       "      <td>Released</td>\n",
       "      <td>NaN</td>\n",
       "      <td>Peanuts – Die Bank zahlt alles</td>\n",
       "      <td>False</td>\n",
       "      <td>4.0</td>\n",
       "      <td>1.0</td>\n",
       "    </tr>\n",
       "    <tr>\n",
       "      <th>635</th>\n",
       "      <td>False</td>\n",
       "      <td>NaN</td>\n",
       "      <td>0</td>\n",
       "      <td>[{'id': 35, 'name': 'Comedy'}]</td>\n",
       "      <td>NaN</td>\n",
       "      <td>339428</td>\n",
       "      <td>tt0116485</td>\n",
       "      <td>de</td>\n",
       "      <td>Happy Weekend</td>\n",
       "      <td>NaN</td>\n",
       "      <td>0.002229</td>\n",
       "      <td>NaN</td>\n",
       "      <td>[{'name': 'Senator Film Produktion', 'id': 191}]</td>\n",
       "      <td>[{'iso_3166_1': 'DE', 'name': 'Germany'}]</td>\n",
       "      <td>1996-03-14</td>\n",
       "      <td>65335.0</td>\n",
       "      <td>NaN</td>\n",
       "      <td>[{'iso_639_1': 'de', 'name': 'Deutsch'}]</td>\n",
       "      <td>Released</td>\n",
       "      <td>NaN</td>\n",
       "      <td>Happy Weekend</td>\n",
       "      <td>False</td>\n",
       "      <td>0.0</td>\n",
       "      <td>0.0</td>\n",
       "    </tr>\n",
       "    <tr>\n",
       "      <th>641</th>\n",
       "      <td>False</td>\n",
       "      <td>NaN</td>\n",
       "      <td>0</td>\n",
       "      <td>[{'id': 35, 'name': 'Comedy'}]</td>\n",
       "      <td>NaN</td>\n",
       "      <td>10801</td>\n",
       "      <td>tt0117788</td>\n",
       "      <td>de</td>\n",
       "      <td>Das Superweib</td>\n",
       "      <td>NaN</td>\n",
       "      <td>0.821299</td>\n",
       "      <td>/AbhMKCh3fV5PY2B9uSPF1DWEvq2.jpg</td>\n",
       "      <td>[{'name': 'Constantin Film', 'id': 47}]</td>\n",
       "      <td>[{'iso_3166_1': 'DE', 'name': 'Germany'}]</td>\n",
       "      <td>1996-03-06</td>\n",
       "      <td>0.0</td>\n",
       "      <td>86.0</td>\n",
       "      <td>[{'iso_639_1': 'de', 'name': 'Deutsch'}]</td>\n",
       "      <td>Released</td>\n",
       "      <td>NaN</td>\n",
       "      <td>The Superwife</td>\n",
       "      <td>False</td>\n",
       "      <td>5.3</td>\n",
       "      <td>7.0</td>\n",
       "    </tr>\n",
       "    <tr>\n",
       "      <th>...</th>\n",
       "      <td>...</td>\n",
       "      <td>...</td>\n",
       "      <td>...</td>\n",
       "      <td>...</td>\n",
       "      <td>...</td>\n",
       "      <td>...</td>\n",
       "      <td>...</td>\n",
       "      <td>...</td>\n",
       "      <td>...</td>\n",
       "      <td>...</td>\n",
       "      <td>...</td>\n",
       "      <td>...</td>\n",
       "      <td>...</td>\n",
       "      <td>...</td>\n",
       "      <td>...</td>\n",
       "      <td>...</td>\n",
       "      <td>...</td>\n",
       "      <td>...</td>\n",
       "      <td>...</td>\n",
       "      <td>...</td>\n",
       "      <td>...</td>\n",
       "      <td>...</td>\n",
       "      <td>...</td>\n",
       "      <td>...</td>\n",
       "    </tr>\n",
       "    <tr>\n",
       "      <th>45342</th>\n",
       "      <td>False</td>\n",
       "      <td>NaN</td>\n",
       "      <td>0</td>\n",
       "      <td>[{'id': 18, 'name': 'Drama'}]</td>\n",
       "      <td>NaN</td>\n",
       "      <td>199887</td>\n",
       "      <td>tt1771636</td>\n",
       "      <td>en</td>\n",
       "      <td>Over/Under</td>\n",
       "      <td>NaN</td>\n",
       "      <td>0.704642</td>\n",
       "      <td>/1xLaIBGGPE4APtBJdfeuyOWICZ0.jpg</td>\n",
       "      <td>[{'name': 'Fox Television Studios', 'id': 6529...</td>\n",
       "      <td>[{'iso_3166_1': 'US', 'name': 'United States o...</td>\n",
       "      <td>2013-01-04</td>\n",
       "      <td>0.0</td>\n",
       "      <td>87.0</td>\n",
       "      <td>[{'iso_639_1': 'en', 'name': 'English'}]</td>\n",
       "      <td>Released</td>\n",
       "      <td>NaN</td>\n",
       "      <td>Over/Under</td>\n",
       "      <td>False</td>\n",
       "      <td>4.0</td>\n",
       "      <td>2.0</td>\n",
       "    </tr>\n",
       "    <tr>\n",
       "      <th>45377</th>\n",
       "      <td>False</td>\n",
       "      <td>NaN</td>\n",
       "      <td>0</td>\n",
       "      <td>[{'id': 12, 'name': 'Adventure'}]</td>\n",
       "      <td>NaN</td>\n",
       "      <td>317389</td>\n",
       "      <td>tt0070695</td>\n",
       "      <td>es</td>\n",
       "      <td>Simbad e il califfo di Bagdad</td>\n",
       "      <td>NaN</td>\n",
       "      <td>0.006352</td>\n",
       "      <td>/izk7KbT6LZO9baEhCkOZYMgj60w.jpg</td>\n",
       "      <td>[{'name': 'Roas Produzioni', 'id': 21137}, {'n...</td>\n",
       "      <td>[{'iso_3166_1': 'IT', 'name': 'Italy'}]</td>\n",
       "      <td>1973-07-22</td>\n",
       "      <td>0.0</td>\n",
       "      <td>NaN</td>\n",
       "      <td>[{'iso_639_1': 'it', 'name': 'Italiano'}]</td>\n",
       "      <td>Released</td>\n",
       "      <td>NaN</td>\n",
       "      <td>Simbad e il califfo di Bagdad</td>\n",
       "      <td>False</td>\n",
       "      <td>0.0</td>\n",
       "      <td>0.0</td>\n",
       "    </tr>\n",
       "    <tr>\n",
       "      <th>45398</th>\n",
       "      <td>False</td>\n",
       "      <td>NaN</td>\n",
       "      <td>1254040</td>\n",
       "      <td>[{'id': 10749, 'name': 'Romance'}, {'id': 35, ...</td>\n",
       "      <td>http://lmtr.fi/</td>\n",
       "      <td>468707</td>\n",
       "      <td>tt5742932</td>\n",
       "      <td>fi</td>\n",
       "      <td>Lauri Mäntyvaaran tuuheet ripset</td>\n",
       "      <td>NaN</td>\n",
       "      <td>0.347806</td>\n",
       "      <td>/rKOpJuwb7pTqYVShHM2tl25VxyF.jpg</td>\n",
       "      <td>[{'name': 'Elokuvayhtiö Oy Aamu', 'id': 84883}]</td>\n",
       "      <td>[{'iso_3166_1': 'FI', 'name': 'Finland'}]</td>\n",
       "      <td>2017-07-28</td>\n",
       "      <td>0.0</td>\n",
       "      <td>90.0</td>\n",
       "      <td>[{'iso_639_1': 'fi', 'name': 'suomi'}]</td>\n",
       "      <td>Released</td>\n",
       "      <td>NaN</td>\n",
       "      <td>Thick Lashes of Lauri Mäntyvaara</td>\n",
       "      <td>False</td>\n",
       "      <td>8.0</td>\n",
       "      <td>1.0</td>\n",
       "    </tr>\n",
       "    <tr>\n",
       "      <th>45399</th>\n",
       "      <td>False</td>\n",
       "      <td>NaN</td>\n",
       "      <td>750000</td>\n",
       "      <td>[{'id': 80, 'name': 'Crime'}, {'id': 35, 'name...</td>\n",
       "      <td>NaN</td>\n",
       "      <td>280422</td>\n",
       "      <td>tt3805180</td>\n",
       "      <td>ru</td>\n",
       "      <td>Все и сразу</td>\n",
       "      <td>NaN</td>\n",
       "      <td>0.201582</td>\n",
       "      <td>/hNsmPpl3zLG36jr4EIEd5P8I4pa.jpg</td>\n",
       "      <td>[{'name': 'Кинокомпания «Lunapark»', 'id': 420...</td>\n",
       "      <td>[{'iso_3166_1': 'RU', 'name': 'Russia'}]</td>\n",
       "      <td>2014-06-05</td>\n",
       "      <td>3.0</td>\n",
       "      <td>0.0</td>\n",
       "      <td>[{'iso_639_1': 'ru', 'name': 'Pусский'}]</td>\n",
       "      <td>Released</td>\n",
       "      <td>NaN</td>\n",
       "      <td>All at Once</td>\n",
       "      <td>False</td>\n",
       "      <td>6.0</td>\n",
       "      <td>4.0</td>\n",
       "    </tr>\n",
       "    <tr>\n",
       "      <th>45410</th>\n",
       "      <td>False</td>\n",
       "      <td>NaN</td>\n",
       "      <td>0</td>\n",
       "      <td>[{'id': 18, 'name': 'Drama'}, {'id': 80, 'name...</td>\n",
       "      <td>NaN</td>\n",
       "      <td>449131</td>\n",
       "      <td>tt0321264</td>\n",
       "      <td>ru</td>\n",
       "      <td>Aprel</td>\n",
       "      <td>NaN</td>\n",
       "      <td>0.008903</td>\n",
       "      <td>NaN</td>\n",
       "      <td>[]</td>\n",
       "      <td>[{'iso_3166_1': 'RU', 'name': 'Russia'}]</td>\n",
       "      <td>NaN</td>\n",
       "      <td>0.0</td>\n",
       "      <td>NaN</td>\n",
       "      <td>[]</td>\n",
       "      <td>Released</td>\n",
       "      <td>NaN</td>\n",
       "      <td>Aprel</td>\n",
       "      <td>False</td>\n",
       "      <td>6.0</td>\n",
       "      <td>1.0</td>\n",
       "    </tr>\n",
       "  </tbody>\n",
       "</table>\n",
       "<p>954 rows × 24 columns</p>\n",
       "</div>"
      ],
      "text/plain": [
       "       adult belongs_to_collection    budget                                             genres         homepage      id    imdb_id original_language                    original_title overview popularity                       poster_path                               production_companies                               production_countries release_date     revenue  runtime                           spoken_languages    status tagline                             title  video  vote_average  \\\n",
       "32     False                   NaN         0  [{'id': 10749, 'name': 'Romance'}, {'id': 12, ...              NaN   78802  tt0114952                fr  Guillaumet, les ailes du courage      NaN   0.745542  /k6ODtR38dKEfuzSGjggr8KDyAF4.jpg    [{'name': 'Iwerks Entertainment', 'id': 70801}]  [{'iso_3166_1': 'FR', 'name': 'France'}, {'iso...   1996-09-18         0.0     50.0   [{'iso_639_1': 'en', 'name': 'English'}]  Released     NaN                  Wings of Courage  False           6.8   \n",
       "300    False                   NaN  22000000  [{'id': 18, 'name': 'Drama'}, {'id': 35, 'name...              NaN  161495  tt0114296                sv                         Roommates      NaN   3.395867  /hvHNlMvWS2GBt7RR971bJ3k4bJc.jpg  [{'name': 'Hollywood Pictures', 'id': 915}, {'...  [{'iso_3166_1': 'US', 'name': 'United States o...   1995-03-01  12400000.0    108.0   [{'iso_639_1': 'en', 'name': 'English'}]  Released     NaN                         Roommates  False           6.4   \n",
       "634    False                   NaN         0                     [{'id': 35, 'name': 'Comedy'}]              NaN  287305  tt0117312                de    Peanuts – Die Bank zahlt alles      NaN   0.066123  /wpk30SvRHmjC2plgKHZXxG0FlKd.jpg  [{'name': 'Westdeutscher Rundfunk (WDR)', 'id'...          [{'iso_3166_1': 'DE', 'name': 'Germany'}]   1996-03-21         0.0      NaN                                         []  Released     NaN    Peanuts – Die Bank zahlt alles  False           4.0   \n",
       "635    False                   NaN         0                     [{'id': 35, 'name': 'Comedy'}]              NaN  339428  tt0116485                de                     Happy Weekend      NaN   0.002229                               NaN   [{'name': 'Senator Film Produktion', 'id': 191}]          [{'iso_3166_1': 'DE', 'name': 'Germany'}]   1996-03-14     65335.0      NaN   [{'iso_639_1': 'de', 'name': 'Deutsch'}]  Released     NaN                     Happy Weekend  False           0.0   \n",
       "641    False                   NaN         0                     [{'id': 35, 'name': 'Comedy'}]              NaN   10801  tt0117788                de                     Das Superweib      NaN   0.821299  /AbhMKCh3fV5PY2B9uSPF1DWEvq2.jpg            [{'name': 'Constantin Film', 'id': 47}]          [{'iso_3166_1': 'DE', 'name': 'Germany'}]   1996-03-06         0.0     86.0   [{'iso_639_1': 'de', 'name': 'Deutsch'}]  Released     NaN                     The Superwife  False           5.3   \n",
       "...      ...                   ...       ...                                                ...              ...     ...        ...               ...                               ...      ...        ...                               ...                                                ...                                                ...          ...         ...      ...                                        ...       ...     ...                               ...    ...           ...   \n",
       "45342  False                   NaN         0                      [{'id': 18, 'name': 'Drama'}]              NaN  199887  tt1771636                en                        Over/Under      NaN   0.704642  /1xLaIBGGPE4APtBJdfeuyOWICZ0.jpg  [{'name': 'Fox Television Studios', 'id': 6529...  [{'iso_3166_1': 'US', 'name': 'United States o...   2013-01-04         0.0     87.0   [{'iso_639_1': 'en', 'name': 'English'}]  Released     NaN                        Over/Under  False           4.0   \n",
       "45377  False                   NaN         0                  [{'id': 12, 'name': 'Adventure'}]              NaN  317389  tt0070695                es     Simbad e il califfo di Bagdad      NaN   0.006352  /izk7KbT6LZO9baEhCkOZYMgj60w.jpg  [{'name': 'Roas Produzioni', 'id': 21137}, {'n...            [{'iso_3166_1': 'IT', 'name': 'Italy'}]   1973-07-22         0.0      NaN  [{'iso_639_1': 'it', 'name': 'Italiano'}]  Released     NaN     Simbad e il califfo di Bagdad  False           0.0   \n",
       "45398  False                   NaN   1254040  [{'id': 10749, 'name': 'Romance'}, {'id': 35, ...  http://lmtr.fi/  468707  tt5742932                fi  Lauri Mäntyvaaran tuuheet ripset      NaN   0.347806  /rKOpJuwb7pTqYVShHM2tl25VxyF.jpg    [{'name': 'Elokuvayhtiö Oy Aamu', 'id': 84883}]          [{'iso_3166_1': 'FI', 'name': 'Finland'}]   2017-07-28         0.0     90.0     [{'iso_639_1': 'fi', 'name': 'suomi'}]  Released     NaN  Thick Lashes of Lauri Mäntyvaara  False           8.0   \n",
       "45399  False                   NaN    750000  [{'id': 80, 'name': 'Crime'}, {'id': 35, 'name...              NaN  280422  tt3805180                ru                       Все и сразу      NaN   0.201582  /hNsmPpl3zLG36jr4EIEd5P8I4pa.jpg  [{'name': 'Кинокомпания «Lunapark»', 'id': 420...           [{'iso_3166_1': 'RU', 'name': 'Russia'}]   2014-06-05         3.0      0.0   [{'iso_639_1': 'ru', 'name': 'Pусский'}]  Released     NaN                       All at Once  False           6.0   \n",
       "45410  False                   NaN         0  [{'id': 18, 'name': 'Drama'}, {'id': 80, 'name...              NaN  449131  tt0321264                ru                             Aprel      NaN   0.008903                               NaN                                                 []           [{'iso_3166_1': 'RU', 'name': 'Russia'}]          NaN         0.0      NaN                                         []  Released     NaN                             Aprel  False           6.0   \n",
       "\n",
       "       vote_count  \n",
       "32            4.0  \n",
       "300           7.0  \n",
       "634           1.0  \n",
       "635           0.0  \n",
       "641           7.0  \n",
       "...           ...  \n",
       "45342         2.0  \n",
       "45377         0.0  \n",
       "45398         1.0  \n",
       "45399         4.0  \n",
       "45410         1.0  \n",
       "\n",
       "[954 rows x 24 columns]"
      ]
     },
     "execution_count": 6,
     "metadata": {},
     "output_type": "execute_result"
    }
   ],
   "source": [
    "df[df[\"overview\"].isnull()]"
   ]
  },
  {
   "cell_type": "code",
   "execution_count": 7,
   "id": "0c795edc",
   "metadata": {
    "execution": {
     "iopub.execute_input": "2023-03-22T11:49:52.940648Z",
     "iopub.status.busy": "2023-03-22T11:49:52.940169Z",
     "iopub.status.idle": "2023-03-22T11:49:52.956545Z",
     "shell.execute_reply": "2023-03-22T11:49:52.955016Z"
    },
    "papermill": {
     "duration": 0.029773,
     "end_time": "2023-03-22T11:49:52.959398",
     "exception": false,
     "start_time": "2023-03-22T11:49:52.929625",
     "status": "completed"
    },
    "tags": []
   },
   "outputs": [],
   "source": [
    "df[\"overview\"] = df[\"overview\"].fillna(\"\")"
   ]
  },
  {
   "cell_type": "markdown",
   "id": "cc160e6f",
   "metadata": {
    "papermill": {
     "duration": 0.008455,
     "end_time": "2023-03-22T11:49:52.976788",
     "exception": false,
     "start_time": "2023-03-22T11:49:52.968333",
     "status": "completed"
    },
    "tags": []
   },
   "source": [
    "***TF-IDF matrix is ​​created.***"
   ]
  },
  {
   "cell_type": "code",
   "execution_count": 8,
   "id": "d2eb7b78",
   "metadata": {
    "execution": {
     "iopub.execute_input": "2023-03-22T11:49:52.997095Z",
     "iopub.status.busy": "2023-03-22T11:49:52.995819Z",
     "iopub.status.idle": "2023-03-22T11:49:55.458035Z",
     "shell.execute_reply": "2023-03-22T11:49:55.456529Z"
    },
    "papermill": {
     "duration": 2.475951,
     "end_time": "2023-03-22T11:49:55.461476",
     "exception": false,
     "start_time": "2023-03-22T11:49:52.985525",
     "status": "completed"
    },
    "tags": []
   },
   "outputs": [],
   "source": [
    "tfidf_matris= tfidf.fit_transform(df[\"overview\"])"
   ]
  },
  {
   "cell_type": "markdown",
   "id": "b478b117",
   "metadata": {
    "papermill": {
     "duration": 0.008732,
     "end_time": "2023-03-22T11:49:55.479915",
     "exception": false,
     "start_time": "2023-03-22T11:49:55.471183",
     "status": "completed"
    },
    "tags": []
   },
   "source": [
    "# 🟠**4.Measurement values ​​are made**"
   ]
  },
  {
   "cell_type": "code",
   "execution_count": 9,
   "id": "cbb1ebeb",
   "metadata": {
    "execution": {
     "iopub.execute_input": "2023-03-22T11:49:55.501056Z",
     "iopub.status.busy": "2023-03-22T11:49:55.500558Z",
     "iopub.status.idle": "2023-03-22T11:50:58.363206Z",
     "shell.execute_reply": "2023-03-22T11:50:58.361780Z"
    },
    "papermill": {
     "duration": 62.876979,
     "end_time": "2023-03-22T11:50:58.366119",
     "exception": false,
     "start_time": "2023-03-22T11:49:55.489140",
     "status": "completed"
    },
    "tags": []
   },
   "outputs": [],
   "source": [
    "cosine_sim = cosine_similarity(tfidf_matris, tfidf_matris)"
   ]
  },
  {
   "cell_type": "code",
   "execution_count": 10,
   "id": "e3ef3ec0",
   "metadata": {
    "execution": {
     "iopub.execute_input": "2023-03-22T11:50:58.386874Z",
     "iopub.status.busy": "2023-03-22T11:50:58.386037Z",
     "iopub.status.idle": "2023-03-22T11:50:58.392666Z",
     "shell.execute_reply": "2023-03-22T11:50:58.391791Z"
    },
    "papermill": {
     "duration": 0.019242,
     "end_time": "2023-03-22T11:50:58.394836",
     "exception": false,
     "start_time": "2023-03-22T11:50:58.375594",
     "status": "completed"
    },
    "tags": []
   },
   "outputs": [
    {
     "data": {
      "text/plain": [
       "RangeIndex(start=0, stop=45466, step=1)"
      ]
     },
     "execution_count": 10,
     "metadata": {},
     "output_type": "execute_result"
    }
   ],
   "source": [
    "df.index"
   ]
  },
  {
   "cell_type": "markdown",
   "id": "f3b99a4e",
   "metadata": {
    "papermill": {
     "duration": 0.008783,
     "end_time": "2023-03-22T11:50:58.413331",
     "exception": false,
     "start_time": "2023-03-22T11:50:58.404548",
     "status": "completed"
    },
    "tags": []
   },
   "source": [
    "***Movie titles are converted to pandas series with their indexes. The purpose here is to remove the repeated \"title\" data from the variable and use it in the recommendation system.***"
   ]
  },
  {
   "cell_type": "code",
   "execution_count": 11,
   "id": "dfffd16c",
   "metadata": {
    "execution": {
     "iopub.execute_input": "2023-03-22T11:50:58.433469Z",
     "iopub.status.busy": "2023-03-22T11:50:58.432751Z",
     "iopub.status.idle": "2023-03-22T11:50:58.438739Z",
     "shell.execute_reply": "2023-03-22T11:50:58.437806Z"
    },
    "papermill": {
     "duration": 0.018899,
     "end_time": "2023-03-22T11:50:58.441120",
     "exception": false,
     "start_time": "2023-03-22T11:50:58.422221",
     "status": "completed"
    },
    "tags": []
   },
   "outputs": [],
   "source": [
    "index= pd.Series(df.index ,index= df[\"title\"])"
   ]
  },
  {
   "cell_type": "code",
   "execution_count": 12,
   "id": "082804a6",
   "metadata": {
    "execution": {
     "iopub.execute_input": "2023-03-22T11:50:58.461420Z",
     "iopub.status.busy": "2023-03-22T11:50:58.460687Z",
     "iopub.status.idle": "2023-03-22T11:50:58.476056Z",
     "shell.execute_reply": "2023-03-22T11:50:58.474711Z"
    },
    "papermill": {
     "duration": 0.028662,
     "end_time": "2023-03-22T11:50:58.478804",
     "exception": false,
     "start_time": "2023-03-22T11:50:58.450142",
     "status": "completed"
    },
    "tags": []
   },
   "outputs": [
    {
     "data": {
      "text/plain": [
       "title\n",
       "Toy Story                          0\n",
       "Jumanji                            1\n",
       "Grumpier Old Men                   2\n",
       "Waiting to Exhale                  3\n",
       "Father of the Bride Part II        4\n",
       "                               ...  \n",
       "Subdue                         45461\n",
       "Century of Birthing            45462\n",
       "Betrayal                       45463\n",
       "Satan Triumphant               45464\n",
       "Queerama                       45465\n",
       "Length: 45466, dtype: int64"
      ]
     },
     "execution_count": 12,
     "metadata": {},
     "output_type": "execute_result"
    }
   ],
   "source": [
    "index"
   ]
  },
  {
   "cell_type": "code",
   "execution_count": 13,
   "id": "7ca60fc9",
   "metadata": {
    "execution": {
     "iopub.execute_input": "2023-03-22T11:50:58.499189Z",
     "iopub.status.busy": "2023-03-22T11:50:58.498728Z",
     "iopub.status.idle": "2023-03-22T11:50:58.510361Z",
     "shell.execute_reply": "2023-03-22T11:50:58.509350Z"
    },
    "papermill": {
     "duration": 0.024731,
     "end_time": "2023-03-22T11:50:58.512720",
     "exception": false,
     "start_time": "2023-03-22T11:50:58.487989",
     "status": "completed"
    },
    "tags": []
   },
   "outputs": [],
   "source": [
    "index = index[~ index.index.duplicated(keep='last')]"
   ]
  },
  {
   "cell_type": "code",
   "execution_count": 14,
   "id": "51a7ee1e",
   "metadata": {
    "execution": {
     "iopub.execute_input": "2023-03-22T11:50:58.533426Z",
     "iopub.status.busy": "2023-03-22T11:50:58.532543Z",
     "iopub.status.idle": "2023-03-22T11:50:58.545749Z",
     "shell.execute_reply": "2023-03-22T11:50:58.544306Z"
    },
    "papermill": {
     "duration": 0.026769,
     "end_time": "2023-03-22T11:50:58.548608",
     "exception": false,
     "start_time": "2023-03-22T11:50:58.521839",
     "status": "completed"
    },
    "tags": []
   },
   "outputs": [],
   "source": [
    "mov_index = index[\"Roommates\"]"
   ]
  },
  {
   "cell_type": "code",
   "execution_count": 15,
   "id": "ce486ea3",
   "metadata": {
    "execution": {
     "iopub.execute_input": "2023-03-22T11:50:58.569041Z",
     "iopub.status.busy": "2023-03-22T11:50:58.568574Z",
     "iopub.status.idle": "2023-03-22T11:50:58.576491Z",
     "shell.execute_reply": "2023-03-22T11:50:58.575294Z"
    },
    "papermill": {
     "duration": 0.021132,
     "end_time": "2023-03-22T11:50:58.579065",
     "exception": false,
     "start_time": "2023-03-22T11:50:58.557933",
     "status": "completed"
    },
    "tags": []
   },
   "outputs": [
    {
     "data": {
      "text/plain": [
       "array([0., 0., 0., ..., 0., 0., 0.])"
      ]
     },
     "execution_count": 15,
     "metadata": {},
     "output_type": "execute_result"
    }
   ],
   "source": [
    "cosine_sim[mov_index]"
   ]
  },
  {
   "cell_type": "markdown",
   "id": "1924ed85",
   "metadata": {
    "papermill": {
     "duration": 0.008997,
     "end_time": "2023-03-22T11:50:58.597486",
     "exception": false,
     "start_time": "2023-03-22T11:50:58.588489",
     "status": "completed"
    },
    "tags": []
   },
   "source": [
    "***The \"title\" information in the created index variable is kept as a numeric value in the \"mov_index\" variable. In the \"sim_score\" variable, the closeness of the relevant movie with other movies is kept.***"
   ]
  },
  {
   "cell_type": "code",
   "execution_count": 16,
   "id": "9d96b69e",
   "metadata": {
    "execution": {
     "iopub.execute_input": "2023-03-22T11:50:58.618511Z",
     "iopub.status.busy": "2023-03-22T11:50:58.617787Z",
     "iopub.status.idle": "2023-03-22T11:50:58.623874Z",
     "shell.execute_reply": "2023-03-22T11:50:58.622872Z"
    },
    "papermill": {
     "duration": 0.019784,
     "end_time": "2023-03-22T11:50:58.626543",
     "exception": false,
     "start_time": "2023-03-22T11:50:58.606759",
     "status": "completed"
    },
    "tags": []
   },
   "outputs": [],
   "source": [
    "sim_score= pd.DataFrame(data= cosine_sim[mov_index], columns=[\"Score\"])"
   ]
  },
  {
   "cell_type": "markdown",
   "id": "f5e3f7e9",
   "metadata": {
    "papermill": {
     "duration": 0.008962,
     "end_time": "2023-03-22T11:50:58.644806",
     "exception": false,
     "start_time": "2023-03-22T11:50:58.635844",
     "status": "completed"
    },
    "tags": []
   },
   "source": [
    "***sim_score variable is assigned to \"mov_indexes\" variable in order from smallest to largest. Finally, numerical equivalents of movies sorted from \"title\" variable are determined.***"
   ]
  },
  {
   "cell_type": "code",
   "execution_count": 17,
   "id": "4ec7f08d",
   "metadata": {
    "execution": {
     "iopub.execute_input": "2023-03-22T11:50:58.665306Z",
     "iopub.status.busy": "2023-03-22T11:50:58.664860Z",
     "iopub.status.idle": "2023-03-22T11:50:58.674100Z",
     "shell.execute_reply": "2023-03-22T11:50:58.672575Z"
    },
    "papermill": {
     "duration": 0.02316,
     "end_time": "2023-03-22T11:50:58.677106",
     "exception": false,
     "start_time": "2023-03-22T11:50:58.653946",
     "status": "completed"
    },
    "tags": []
   },
   "outputs": [],
   "source": [
    "mov_indexes = sim_score.sort_values(\"Score\", ascending=False)[1:11].index"
   ]
  },
  {
   "cell_type": "code",
   "execution_count": 18,
   "id": "d2328340",
   "metadata": {
    "execution": {
     "iopub.execute_input": "2023-03-22T11:50:58.697946Z",
     "iopub.status.busy": "2023-03-22T11:50:58.697517Z",
     "iopub.status.idle": "2023-03-22T11:50:58.705348Z",
     "shell.execute_reply": "2023-03-22T11:50:58.703967Z"
    },
    "papermill": {
     "duration": 0.021649,
     "end_time": "2023-03-22T11:50:58.708083",
     "exception": false,
     "start_time": "2023-03-22T11:50:58.686434",
     "status": "completed"
    },
    "tags": []
   },
   "outputs": [
    {
     "data": {
      "text/plain": [
       "Int64Index([30281, 30305, 30306, 30307, 30308, 30309, 30310, 30311, 30312, 30313], dtype='int64')"
      ]
     },
     "execution_count": 18,
     "metadata": {},
     "output_type": "execute_result"
    }
   ],
   "source": [
    "mov_indexes"
   ]
  },
  {
   "cell_type": "code",
   "execution_count": 19,
   "id": "d0b5b4e4",
   "metadata": {
    "execution": {
     "iopub.execute_input": "2023-03-22T11:50:58.729034Z",
     "iopub.status.busy": "2023-03-22T11:50:58.728585Z",
     "iopub.status.idle": "2023-03-22T11:50:58.738148Z",
     "shell.execute_reply": "2023-03-22T11:50:58.737038Z"
    },
    "papermill": {
     "duration": 0.022744,
     "end_time": "2023-03-22T11:50:58.740461",
     "exception": false,
     "start_time": "2023-03-22T11:50:58.717717",
     "status": "completed"
    },
    "tags": []
   },
   "outputs": [
    {
     "data": {
      "text/plain": [
       "30281                           Jab Tak Hai Jaan\n",
       "30305                     Paranormal Whacktivity\n",
       "30306    Comedy Central Roast of Pamela Anderson\n",
       "30307                             The Golden Bat\n",
       "30308                                   Festival\n",
       "30309                              The Prospects\n",
       "30310                    The Colour Out of Space\n",
       "30311                                    Foxtrot\n",
       "30312                           Ghost Graduation\n",
       "30313                                 Duck Amuck\n",
       "Name: title, dtype: object"
      ]
     },
     "execution_count": 19,
     "metadata": {},
     "output_type": "execute_result"
    }
   ],
   "source": [
    "df[\"title\"].iloc[mov_indexes]"
   ]
  }
 ],
 "metadata": {
  "kernelspec": {
   "display_name": "Python 3",
   "language": "python",
   "name": "python3"
  },
  "language_info": {
   "codemirror_mode": {
    "name": "ipython",
    "version": 3
   },
   "file_extension": ".py",
   "mimetype": "text/x-python",
   "name": "python",
   "nbconvert_exporter": "python",
   "pygments_lexer": "ipython3",
   "version": "3.7.12"
  },
  "papermill": {
   "default_parameters": {},
   "duration": 82.747061,
   "end_time": "2023-03-22T11:51:00.678114",
   "environment_variables": {},
   "exception": null,
   "input_path": "__notebook__.ipynb",
   "output_path": "__notebook__.ipynb",
   "parameters": {},
   "start_time": "2023-03-22T11:49:37.931053",
   "version": "2.4.0"
  }
 },
 "nbformat": 4,
 "nbformat_minor": 5
}
